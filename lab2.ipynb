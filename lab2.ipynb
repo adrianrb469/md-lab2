{
 "cells": [
  {
   "cell_type": "code",
   "execution_count": 14,
   "metadata": {},
   "outputs": [],
   "source": [
    "import pandas as pd\n",
    "import numpy as np\n",
    "import matplotlib.pyplot as plt\n",
    "from sklearn import datasets\n",
    "import seaborn as sb\n",
    "import sklearn.cluster as cluster\n",
    "import sklearn.metrics as metrics\n",
    "import sklearn.preprocessing\n",
    "import scipy.cluster.hierarchy as sch\n",
    "import skfuzzy as fuzz\n",
    "import pylab\n",
    "import sklearn.mixture as mixture\n",
    "from pyclustering.cluster.kmeans import kmeans, kmeans_visualizer\n",
    "\n",
    "import random"
   ]
  },
  {
   "cell_type": "code",
   "execution_count": null,
   "metadata": {},
   "outputs": [],
   "source": []
  },
  {
   "cell_type": "code",
   "execution_count": 24,
   "metadata": {},
   "outputs": [
    {
     "name": "stdout",
     "output_type": "stream",
     "text": [
      "0.9056053343082071\n"
     ]
    }
   ],
   "source": [
    "import numpy as np\n",
    "from sklearn.neighbors import NearestNeighbors\n",
    "from sklearn.preprocessing import scale\n",
    "import pandas as pd\n",
    "\n",
    "#Estadistica de Hokpins\n",
    "movies_df = pd.read_csv('movies.csv')\n",
    "def hopkins_statistic(X): \n",
    "  sample = scale(X)\n",
    "  n,d = X.shape\n",
    "  m = int(0.1 * n) # 10% de la muestra\n",
    "  neighbours = NearestNeighbors(n_neighbors=1).fit(X)\n",
    "  rand_sample = np.random.random_sample(size=(m, d)) * (sample.max(axis=0) - sample.min(axis=0)) + sample.min(axis=0)\n",
    "    \n",
    "  u_dist, _ = neighbours.kneighbors(rand_sample, return_distance=True)\n",
    "  u_dist_sum = np.sum(u_dist)\n",
    "    \n",
    "  w_dist, _ = neighbours.kneighbors(sample[np.random.choice(n, m, replace=False), :], return_distance=True)\n",
    "  w_dist_sum = np.sum(w_dist)\n",
    "    \n",
    "  H = u_dist_sum / (u_dist_sum + w_dist_sum)\n",
    "  return H\n",
    "\n",
    "variables = movies_df[['budget', 'revenue', 'runtime']].dropna()\n",
    "variables['budget'] = variables['budget'].str.replace(' ', '')\n",
    "\n",
    "\n",
    "print(hopkins_statistic(variables.values))\n",
    "  "
   ]
  },
  {
   "cell_type": "code",
   "execution_count": null,
   "metadata": {},
   "outputs": [],
   "source": []
  },
  {
   "cell_type": "code",
   "execution_count": null,
   "metadata": {},
   "outputs": [],
   "source": []
  }
 ],
 "metadata": {
  "kernelspec": {
   "display_name": "Python 3",
   "language": "python",
   "name": "python3"
  },
  "language_info": {
   "codemirror_mode": {
    "name": "ipython",
    "version": 3
   },
   "file_extension": ".py",
   "mimetype": "text/x-python",
   "name": "python",
   "nbconvert_exporter": "python",
   "pygments_lexer": "ipython3",
   "version": "3.9.6"
  }
 },
 "nbformat": 4,
 "nbformat_minor": 2
}
